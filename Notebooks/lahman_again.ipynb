{
 "cells": [
  {
   "cell_type": "markdown",
   "metadata": {},
   "source": [
    "## Questions\n",
    "<ul>\n",
    "<li>What range of years does the provided database cover?</li>\n",
    "<br> \n",
    "<li>Find the name and height of the shortest player in the database. How many games did he play in? What is the name of the team for which he played?</li>\n",
    "<br> \n",
    "<li>Find all players in the database who played at Vanderbilt University. Create a list showing each player’s first and last names as well as the total salary they earned in the major leagues. Sort this list in descending order by the total salary earned. Which Vanderbilt player earned the most money in the majors?</li>\n",
    "<br> \n",
    "<li>Using the fielding table, group players into three groups based on their position: label players with position OF as \"Outfield\", those with position \"SS\", \"1B\", \"2B\", and \"3B\" as \"Infield\", and those with position \"P\" or \"C\" as \"Battery\". Determine the number of putouts made by each of these three groups in 2016.</li>\n",
    "<br> \n",
    "<li>Find the average number of strikeouts per game by decade since 1920. Round the numbers you report to 2 decimal places. Do the same for home runs per game. Do you see any trends?</li>\n",
    "<br> \n",
    "<li>Find the player who had the most success stealing bases in 2016, where success is measured as the percentage of stolen base attempts which are successful. (A stolen base attempt results either in a stolen base or being caught stealing.) Consider only players who attempted at least 20 stolen bases.</li>\n",
    "<br> \n",
    "<li>From 1970 – 2016, what is the largest number of wins for a team that did not win the world series? What is the smallest number of wins for a team that did win the world series? Doing this will probably result in an unusually small number of wins for a world series champion – determine why this is the case. Then redo your query, excluding the problem year. How often from 1970 – 2016 was it the case that a team with the most wins also won the world series? What percentage of the time?</li>\n",
    "<br> \n",
    "<li>Using the attendance figures from the homegames table, find the teams and parks which had the top 5 average attendance per game in 2016 (where average attendance is defined as total attendance divided by number of games). Only consider parks where there were at least 10 games played. Report the park name, team name, and average attendance. Repeat for the lowest 5 average attendance.</li>\n",
    "<br> \n",
    "<li>Which managers have won the TSN Manager of the Year award in both the National League (NL) and the American League (AL)? Give their full name and the teams that they were managing when they won the award.</li> \n",
    "</ul>\n",
    "\n",
    "## Bonus Questions\n",
    "<ul>\n",
    "<li>Analyze all the colleges in the state of Tennessee. Which college has had the most success in the major leagues. Use whatever metric for success you like - number of players, number of games, salaries, world series wins, etc.</li>\n",
    "<br>\n",
    "<li>Is there any correlation between number of wins and team salary? Use data from 2000 and later to answer this question. As you do this analysis, keep in mind that salaries across the whole league tend to increase together, so you may want to look on a year-by-year basis.</li>\n",
    "<br>\n",
    "<li>It is thought that since left-handed pitchers are more rare, causing batters to face them less often, that they are more effective. Investigate this claim and present evidence to either support or dispute this claim. First, determine just how rare left-handed pitchers are compared with right-handed pitchers. Are left-handed pitchers more likely to win the Cy Young Award? Are they more likely to make it into the hall of fame?</li>"
   ]
  },
  {
   "cell_type": "code",
   "execution_count": 58,
   "metadata": {},
   "outputs": [],
   "source": [
    "import os\n",
    "\n",
    "import pandas as pd\n",
    "from sqlalchemy import create_engine\n",
    "import numpy as np"
   ]
  },
  {
   "cell_type": "code",
   "execution_count": 59,
   "metadata": {},
   "outputs": [
    {
     "data": {
      "text/plain": [
       "True"
      ]
     },
     "execution_count": 59,
     "metadata": {},
     "output_type": "execute_result"
    }
   ],
   "source": [
    "from dotenv import load_dotenv\n",
    "load_dotenv()"
   ]
  },
  {
   "cell_type": "code",
   "execution_count": 60,
   "metadata": {},
   "outputs": [],
   "source": [
    "username = os.getenv('POSTGRES_USERNAME')\n",
    "password = os.getenv('POSTGRES_PASSWORD')\n",
    "\n",
    "\n",
    "postgres_connection_string = \"postgres://{username}:{password}@{host}:{port}/{database}?gssencmode=disable\".format(\n",
    "    username=username,\n",
    "    password=password,\n",
    "    host=\"localhost\",\n",
    "    port=\"5432\",\n",
    "    database=\"lahman_baseball\"\n",
    ")"
   ]
  },
  {
   "cell_type": "code",
   "execution_count": 61,
   "metadata": {},
   "outputs": [],
   "source": [
    "engine = create_engine(postgres_connection_string)"
   ]
  },
  {
   "cell_type": "code",
   "execution_count": 134,
   "metadata": {},
   "outputs": [],
   "source": [
    "batting_sql = \"SELECT * FROM batting;\"\n",
    "teams_sql = \"SELECT * FROM teams;\"\n",
    "people_sql = \"SELECT * FROM people;\"\n",
    "appearances_sql = \"SELECT * FROM appearances;\"\n",
    "collegeplaying_sql = \"SELECT * FROM collegeplaying;\"\n",
    "schools_sql = \"SELECT * FROM schools;\"\n",
    "salaries_sql = \"SELECT * FROM salaries;\"\n",
    "fielding_sql = \"SELECT * FROM fielding;\""
   ]
  },
  {
   "cell_type": "code",
   "execution_count": 135,
   "metadata": {
    "scrolled": true
   },
   "outputs": [],
   "source": [
    "batting_df = pd.read_sql(batting_sql, con=engine)\n",
    "teams_df = pd.read_sql(teams_sql, con=engine)\n",
    "people_df = pd.read_sql(people_sql, con=engine)\n",
    "appearances_df = pd.read_sql(appearances_sql, con=engine)\n",
    "collegeplaying_df = pd.read_sql(collegeplaying_sql, con=engine)\n",
    "schools_df = pd.read_sql(schools_sql, con=engine)\n",
    "salaries_df = pd.read_sql(salaries_sql, con=engine)\n",
    "fielding_df = pd.read_sql(fielding_sql, con=engine)"
   ]
  },
  {
   "cell_type": "markdown",
   "metadata": {},
   "source": [
    "#### What range of years does the provided database cover?"
   ]
  },
  {
   "cell_type": "code",
   "execution_count": 64,
   "metadata": {},
   "outputs": [
    {
     "data": {
      "text/plain": [
       "1871"
      ]
     },
     "execution_count": 64,
     "metadata": {},
     "output_type": "execute_result"
    }
   ],
   "source": [
    "teams_df['yearid'].min()"
   ]
  },
  {
   "cell_type": "code",
   "execution_count": 65,
   "metadata": {},
   "outputs": [
    {
     "data": {
      "text/plain": [
       "2016"
      ]
     },
     "execution_count": 65,
     "metadata": {},
     "output_type": "execute_result"
    }
   ],
   "source": [
    "teams_df['yearid'].max()"
   ]
  },
  {
   "cell_type": "markdown",
   "metadata": {},
   "source": [
    "#### Find the name and height of the shortest player in the database. How many games did he play in? What is the name of the team for which he played?"
   ]
  },
  {
   "cell_type": "code",
   "execution_count": 66,
   "metadata": {},
   "outputs": [],
   "source": [
    "shortest_player = people_df[people_df.height == people_df.height.min()] "
   ]
  },
  {
   "cell_type": "code",
   "execution_count": 67,
   "metadata": {},
   "outputs": [
    {
     "data": {
      "text/plain": [
       "5843    Edward Carl\n",
       "Name: namegiven, dtype: object"
      ]
     },
     "execution_count": 67,
     "metadata": {},
     "output_type": "execute_result"
    }
   ],
   "source": [
    "shortest_player['namegiven']"
   ]
  },
  {
   "cell_type": "code",
   "execution_count": 68,
   "metadata": {},
   "outputs": [],
   "source": [
    "edward_carl_id = list(shortest_player['playerid'])"
   ]
  },
  {
   "cell_type": "code",
   "execution_count": 69,
   "metadata": {},
   "outputs": [
    {
     "data": {
      "text/html": [
       "<div>\n",
       "<style scoped>\n",
       "    .dataframe tbody tr th:only-of-type {\n",
       "        vertical-align: middle;\n",
       "    }\n",
       "\n",
       "    .dataframe tbody tr th {\n",
       "        vertical-align: top;\n",
       "    }\n",
       "\n",
       "    .dataframe thead th {\n",
       "        text-align: right;\n",
       "    }\n",
       "</style>\n",
       "<table border=\"1\" class=\"dataframe\">\n",
       "  <thead>\n",
       "    <tr style=\"text-align: right;\">\n",
       "      <th></th>\n",
       "      <th>yearid</th>\n",
       "      <th>teamid</th>\n",
       "      <th>lgid</th>\n",
       "      <th>playerid</th>\n",
       "      <th>g_all</th>\n",
       "      <th>gs</th>\n",
       "      <th>g_batting</th>\n",
       "      <th>g_defense</th>\n",
       "      <th>g_p</th>\n",
       "      <th>g_c</th>\n",
       "      <th>...</th>\n",
       "      <th>g_2b</th>\n",
       "      <th>g_3b</th>\n",
       "      <th>g_ss</th>\n",
       "      <th>g_lf</th>\n",
       "      <th>g_cf</th>\n",
       "      <th>g_rf</th>\n",
       "      <th>g_of</th>\n",
       "      <th>g_dh</th>\n",
       "      <th>g_ph</th>\n",
       "      <th>g_pr</th>\n",
       "    </tr>\n",
       "  </thead>\n",
       "  <tbody>\n",
       "    <tr>\n",
       "      <th>35173</th>\n",
       "      <td>1951</td>\n",
       "      <td>SLA</td>\n",
       "      <td>AL</td>\n",
       "      <td>gaedeed01</td>\n",
       "      <td>1</td>\n",
       "      <td>0.0</td>\n",
       "      <td>1</td>\n",
       "      <td>0</td>\n",
       "      <td>0</td>\n",
       "      <td>0</td>\n",
       "      <td>...</td>\n",
       "      <td>0</td>\n",
       "      <td>0</td>\n",
       "      <td>0</td>\n",
       "      <td>0</td>\n",
       "      <td>0</td>\n",
       "      <td>0</td>\n",
       "      <td>0</td>\n",
       "      <td>0.0</td>\n",
       "      <td>1.0</td>\n",
       "      <td>0.0</td>\n",
       "    </tr>\n",
       "  </tbody>\n",
       "</table>\n",
       "<p>1 rows × 21 columns</p>\n",
       "</div>"
      ],
      "text/plain": [
       "       yearid teamid lgid   playerid  g_all   gs  g_batting  g_defense  g_p  \\\n",
       "35173    1951    SLA   AL  gaedeed01      1  0.0          1          0    0   \n",
       "\n",
       "       g_c  ...  g_2b  g_3b  g_ss  g_lf  g_cf  g_rf  g_of  g_dh  g_ph  g_pr  \n",
       "35173    0  ...     0     0     0     0     0     0     0   0.0   1.0   0.0  \n",
       "\n",
       "[1 rows x 21 columns]"
      ]
     },
     "execution_count": 69,
     "metadata": {},
     "output_type": "execute_result"
    }
   ],
   "source": [
    "appearances_df[appearances_df['playerid'].isin(['gaedeed01'])]"
   ]
  },
  {
   "cell_type": "code",
   "execution_count": 70,
   "metadata": {},
   "outputs": [
    {
     "data": {
      "text/plain": [
       "412    St. Louis Browns\n",
       "Name: name, dtype: object"
      ]
     },
     "execution_count": 70,
     "metadata": {},
     "output_type": "execute_result"
    }
   ],
   "source": [
    "teams_df['name'][teams_df['teamid'].isin(['SLA'])].head(1)"
   ]
  },
  {
   "cell_type": "markdown",
   "metadata": {},
   "source": [
    "#### Find all players in the database who played at Vanderbilt University. Create a list showing each player’s first and last names as well as the total salary they earned in the major leagues. Sort this list in descending order by the total salary earned. Which Vanderbilt player earned the most money in the majors?"
   ]
  },
  {
   "cell_type": "code",
   "execution_count": 81,
   "metadata": {},
   "outputs": [],
   "source": [
    "vandy_id = list(schools_df.loc[schools_df['schoolname'] == 'Vanderbilt University', 'schoolid'])"
   ]
  },
  {
   "cell_type": "code",
   "execution_count": 82,
   "metadata": {},
   "outputs": [],
   "source": [
    "vandy_players = list(collegeplaying_df.loc[collegeplaying_df['schoolid'] == 'vandy', 'playerid'])"
   ]
  },
  {
   "cell_type": "code",
   "execution_count": 83,
   "metadata": {},
   "outputs": [],
   "source": [
    "# function to get unique values \n",
    "def unique(list1): \n",
    "    x = np.array(list1) \n",
    "    print(np.unique(x)) "
   ]
  },
  {
   "cell_type": "code",
   "execution_count": 84,
   "metadata": {},
   "outputs": [
    {
     "name": "stdout",
     "output_type": "stream",
     "text": [
      "['alvarpe01' 'baxtemi01' 'chrisni01' 'colliwi01' 'corajo01' 'embresl01'\n",
      " 'flahery01' 'grayso01' 'hendrha01' 'katama01' 'lewisje01' 'madissc01'\n",
      " 'minormi01' 'mooresc01' 'mossma01' 'pauljo01' 'priceda01' 'priorma01'\n",
      " 'richaan01' 'sandesc01' 'sewelri01' 'sowerje01' 'willimi01' 'zeidjo01']\n"
     ]
    }
   ],
   "source": [
    "unique(vandy_players)"
   ]
  },
  {
   "cell_type": "code",
   "execution_count": 87,
   "metadata": {},
   "outputs": [],
   "source": [
    "#Placed a comma between all items returned above.\n",
    "vandy_players_unique = ['alvarpe01', 'baxtemi01', 'chrisni01', 'colliwi01', 'corajo01', 'embresl01',\n",
    " 'flahery01', 'grayso01', 'hendrha01', 'katama01', 'lewisje01', 'madissc01',\n",
    " 'minormi01', 'mooresc01', 'mossma01', 'pauljo01', 'priceda01', 'priorma01',\n",
    " 'richaan01', 'sandesc01', 'sewelri01', 'sowerje01', 'willimi01', 'zeidjo01']"
   ]
  },
  {
   "cell_type": "code",
   "execution_count": 96,
   "metadata": {},
   "outputs": [],
   "source": [
    "vandy_names = people_df.query('playerid in @vandy_players_unique')"
   ]
  },
  {
   "cell_type": "code",
   "execution_count": 126,
   "metadata": {},
   "outputs": [],
   "source": [
    "vandy_names_fl = vandy_names[['playerid', 'namefirst', 'namelast']]"
   ]
  },
  {
   "cell_type": "code",
   "execution_count": 121,
   "metadata": {},
   "outputs": [],
   "source": [
    "vandy_salaries = salaries_df.query('playerid in @vandy_players_unique')"
   ]
  },
  {
   "cell_type": "code",
   "execution_count": 128,
   "metadata": {},
   "outputs": [],
   "source": [
    "vandy_total_salaries = vandy_salaries.groupby('playerid')['salary'].sum().to_frame()"
   ]
  },
  {
   "cell_type": "code",
   "execution_count": 136,
   "metadata": {},
   "outputs": [
    {
     "data": {
      "text/html": [
       "<div>\n",
       "<style scoped>\n",
       "    .dataframe tbody tr th:only-of-type {\n",
       "        vertical-align: middle;\n",
       "    }\n",
       "\n",
       "    .dataframe tbody tr th {\n",
       "        vertical-align: top;\n",
       "    }\n",
       "\n",
       "    .dataframe thead th {\n",
       "        text-align: right;\n",
       "    }\n",
       "</style>\n",
       "<table border=\"1\" class=\"dataframe\">\n",
       "  <thead>\n",
       "    <tr style=\"text-align: right;\">\n",
       "      <th></th>\n",
       "      <th>playerid</th>\n",
       "      <th>salary</th>\n",
       "      <th>namefirst</th>\n",
       "      <th>namelast</th>\n",
       "    </tr>\n",
       "  </thead>\n",
       "  <tbody>\n",
       "    <tr>\n",
       "      <th>11</th>\n",
       "      <td>priceda01</td>\n",
       "      <td>81851296.0</td>\n",
       "      <td>David</td>\n",
       "      <td>Price</td>\n",
       "    </tr>\n",
       "  </tbody>\n",
       "</table>\n",
       "</div>"
      ],
      "text/plain": [
       "     playerid      salary namefirst namelast\n",
       "11  priceda01  81851296.0     David    Price"
      ]
     },
     "execution_count": 136,
     "metadata": {},
     "output_type": "execute_result"
    }
   ],
   "source": [
    "pd.merge(vandy_total_salaries, vandy_names_fl, on = 'playerid').sort_values(by = 'salary', ascending = False).head(1)"
   ]
  },
  {
   "cell_type": "markdown",
   "metadata": {},
   "source": [
    "#### Using the fielding table, group players into three groups based on their position: label players with position OF as \"Outfield\", those with position \"SS\", \"1B\", \"2B\", and \"3B\" as \"Infield\", and those with position \"P\" or \"C\" as \"Battery\". Determine the number of putouts made by each of these three groups in 2016."
   ]
  },
  {
   "cell_type": "code",
   "execution_count": 156,
   "metadata": {},
   "outputs": [],
   "source": [
    "fielding_df['pos_group'] = fielding_df['pos']"
   ]
  },
  {
   "cell_type": "code",
   "execution_count": 165,
   "metadata": {},
   "outputs": [],
   "source": [
    "fielding_df.loc[fielding_df['pos'] == '1B', 'pos_group'] = 'Infield'\n",
    "fielding_df.loc[fielding_df['pos'] == '2B', 'pos_group'] = 'Infield'\n",
    "fielding_df.loc[fielding_df['pos'] == 'SS', 'pos_group'] = 'Infield'\n",
    "fielding_df.loc[fielding_df['pos'] == '3B', 'pos_group'] = 'Infield'\n",
    "fielding_df.loc[fielding_df['pos'] == 'OF', 'pos_group'] = 'Outfield'\n",
    "fielding_df.loc[fielding_df['pos'] == 'P', 'pos_group'] = 'Battery'\n",
    "fielding_df.loc[fielding_df['pos'] == 'C', 'pos_group'] = 'Battery'"
   ]
  },
  {
   "cell_type": "code",
   "execution_count": 167,
   "metadata": {},
   "outputs": [
    {
     "data": {
      "text/html": [
       "<div>\n",
       "<style scoped>\n",
       "    .dataframe tbody tr th:only-of-type {\n",
       "        vertical-align: middle;\n",
       "    }\n",
       "\n",
       "    .dataframe tbody tr th {\n",
       "        vertical-align: top;\n",
       "    }\n",
       "\n",
       "    .dataframe thead th {\n",
       "        text-align: right;\n",
       "    }\n",
       "</style>\n",
       "<table border=\"1\" class=\"dataframe\">\n",
       "  <thead>\n",
       "    <tr style=\"text-align: right;\">\n",
       "      <th></th>\n",
       "      <th>po</th>\n",
       "    </tr>\n",
       "    <tr>\n",
       "      <th>pos_group</th>\n",
       "      <th></th>\n",
       "    </tr>\n",
       "  </thead>\n",
       "  <tbody>\n",
       "    <tr>\n",
       "      <th>Battery</th>\n",
       "      <td>2575499</td>\n",
       "    </tr>\n",
       "    <tr>\n",
       "      <th>Infield</th>\n",
       "      <td>6101378</td>\n",
       "    </tr>\n",
       "    <tr>\n",
       "      <th>Outfield</th>\n",
       "      <td>2731506</td>\n",
       "    </tr>\n",
       "  </tbody>\n",
       "</table>\n",
       "</div>"
      ],
      "text/plain": [
       "                po\n",
       "pos_group         \n",
       "Battery    2575499\n",
       "Infield    6101378\n",
       "Outfield   2731506"
      ]
     },
     "execution_count": 167,
     "metadata": {},
     "output_type": "execute_result"
    }
   ],
   "source": [
    "fielding_df.groupby('pos_group')['po'].sum().to_frame()"
   ]
  },
  {
   "cell_type": "code",
   "execution_count": null,
   "metadata": {},
   "outputs": [],
   "source": []
  }
 ],
 "metadata": {
  "kernelspec": {
   "display_name": "Python 3",
   "language": "python",
   "name": "python3"
  },
  "language_info": {
   "codemirror_mode": {
    "name": "ipython",
    "version": 3
   },
   "file_extension": ".py",
   "mimetype": "text/x-python",
   "name": "python",
   "nbconvert_exporter": "python",
   "pygments_lexer": "ipython3",
   "version": "3.8.2"
  }
 },
 "nbformat": 4,
 "nbformat_minor": 4
}
