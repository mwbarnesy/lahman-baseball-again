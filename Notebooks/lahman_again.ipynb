{
 "cells": [
  {
   "cell_type": "markdown",
   "metadata": {},
   "source": [
    "## Questions\n",
    "<ul>\n",
    "    <li><del>What range of years does the provided database cover?</del></li>\n",
    "<br> \n",
    "<li><del>Find the name and height of the shortest player in the database. How many games did he play in? What is the name of the team for which he played?</del></li>\n",
    "<br> \n",
    "<li><del>Find all players in the database who played at Vanderbilt University. Create a list showing each player’s first and last names as well as the total salary they earned in the major leagues. Sort this list in descending order by the total salary earned. Which Vanderbilt player earned the most money in the majors?</del></li>\n",
    "<br> \n",
    "<li><del>Using the fielding table, group players into three groups based on their position: label players with position OF as \"Outfield\", those with position \"SS\", \"1B\", \"2B\", and \"3B\" as \"Infield\", and those with position \"P\" or \"C\" as \"Battery\". Determine the number of putouts made by each of these three groups in 2016.</del></li>\n",
    "<br> \n",
    "<li><del>Find the average number of strikeouts per game by decade since 1920. Round the numbers you report to 2 decimal places. Do the same for home runs per game. Do you see any trends?</del></li>\n",
    "<br> \n",
    "<li>Find the player who had the most success stealing bases in 2016, where success is measured as the percentage of stolen base attempts which are successful. (A stolen base attempt results either in a stolen base or being caught stealing.) Consider only players who attempted at least 20 stolen bases.</li>\n",
    "<br> \n",
    "<li>From 1970 – 2016, what is the largest number of wins for a team that did not win the world series? What is the smallest number of wins for a team that did win the world series? Doing this will probably result in an unusually small number of wins for a world series champion – determine why this is the case. Then redo your query, excluding the problem year. How often from 1970 – 2016 was it the case that a team with the most wins also won the world series? What percentage of the time?</li>\n",
    "<br> \n",
    "<li>Using the attendance figures from the homegames table, find the teams and parks which had the top 5 average attendance per game in 2016 (where average attendance is defined as total attendance divided by number of games). Only consider parks where there were at least 10 games played. Report the park name, team name, and average attendance. Repeat for the lowest 5 average attendance.</li>\n",
    "<br> \n",
    "<li>Which managers have won the TSN Manager of the Year award in both the National League (NL) and the American League (AL)? Give their full name and the teams that they were managing when they won the award.</li> \n",
    "</ul>\n",
    "\n",
    "## Bonus Questions\n",
    "<ul>\n",
    "<li>Analyze all the colleges in the state of Tennessee. Which college has had the most success in the major leagues. Use whatever metric for success you like - number of players, number of games, salaries, world series wins, etc.</li>\n",
    "<br>\n",
    "<li>Is there any correlation between number of wins and team salary? Use data from 2000 and later to answer this question. As you do this analysis, keep in mind that salaries across the whole league tend to increase together, so you may want to look on a year-by-year basis.</li>\n",
    "<br>\n",
    "<li>It is thought that since left-handed pitchers are more rare, causing batters to face them less often, that they are more effective. Investigate this claim and present evidence to either support or dispute this claim. First, determine just how rare left-handed pitchers are compared with right-handed pitchers. Are left-handed pitchers more likely to win the Cy Young Award? Are they more likely to make it into the hall of fame?</li>"
   ]
  },
  {
   "cell_type": "code",
   "execution_count": 1,
   "metadata": {},
   "outputs": [],
   "source": [
    "import os\n",
    "\n",
    "import pandas as pd\n",
    "from sqlalchemy import create_engine\n",
    "import numpy as np"
   ]
  },
  {
   "cell_type": "code",
   "execution_count": 2,
   "metadata": {},
   "outputs": [
    {
     "data": {
      "text/plain": [
       "True"
      ]
     },
     "execution_count": 2,
     "metadata": {},
     "output_type": "execute_result"
    }
   ],
   "source": [
    "from dotenv import load_dotenv\n",
    "load_dotenv()"
   ]
  },
  {
   "cell_type": "code",
   "execution_count": 3,
   "metadata": {},
   "outputs": [],
   "source": [
    "username = os.getenv('POSTGRES_USERNAME')\n",
    "password = os.getenv('POSTGRES_PASSWORD')\n",
    "\n",
    "\n",
    "postgres_connection_string = \"postgres://{username}:{password}@{host}:{port}/{database}?gssencmode=disable\".format(\n",
    "    username=username,\n",
    "    password=password,\n",
    "    host=\"localhost\",\n",
    "    port=\"5432\",\n",
    "    database=\"lahman_baseball\"\n",
    ")"
   ]
  },
  {
   "cell_type": "code",
   "execution_count": 4,
   "metadata": {},
   "outputs": [],
   "source": [
    "engine = create_engine(postgres_connection_string)"
   ]
  },
  {
   "cell_type": "code",
   "execution_count": 5,
   "metadata": {},
   "outputs": [],
   "source": [
    "batting_sql = \"SELECT * FROM batting;\"\n",
    "teams_sql = \"SELECT * FROM teams;\"\n",
    "people_sql = \"SELECT * FROM people;\"\n",
    "appearances_sql = \"SELECT * FROM appearances;\"\n",
    "collegeplaying_sql = \"SELECT * FROM collegeplaying;\"\n",
    "schools_sql = \"SELECT * FROM schools;\"\n",
    "salaries_sql = \"SELECT * FROM salaries;\"\n",
    "fielding_sql = \"SELECT * FROM fielding;\"\n",
    "pitching_sql = \"SELECT * FROM pitching;\""
   ]
  },
  {
   "cell_type": "code",
   "execution_count": 6,
   "metadata": {
    "scrolled": true
   },
   "outputs": [],
   "source": [
    "batting_df = pd.read_sql(batting_sql, con=engine)\n",
    "teams_df = pd.read_sql(teams_sql, con=engine)\n",
    "people_df = pd.read_sql(people_sql, con=engine)\n",
    "appearances_df = pd.read_sql(appearances_sql, con=engine)\n",
    "collegeplaying_df = pd.read_sql(collegeplaying_sql, con=engine)\n",
    "schools_df = pd.read_sql(schools_sql, con=engine)\n",
    "salaries_df = pd.read_sql(salaries_sql, con=engine)\n",
    "fielding_df = pd.read_sql(fielding_sql, con=engine)\n",
    "pitching_df = pd.read_sql(pitching_sql, con=engine)"
   ]
  },
  {
   "cell_type": "markdown",
   "metadata": {},
   "source": [
    "---\n",
    "#### What range of years does the provided database cover?"
   ]
  },
  {
   "cell_type": "code",
   "execution_count": 7,
   "metadata": {},
   "outputs": [
    {
     "data": {
      "text/plain": [
       "1871"
      ]
     },
     "execution_count": 7,
     "metadata": {},
     "output_type": "execute_result"
    }
   ],
   "source": [
    "teams_df['yearid'].min()"
   ]
  },
  {
   "cell_type": "code",
   "execution_count": 8,
   "metadata": {},
   "outputs": [
    {
     "data": {
      "text/plain": [
       "2016"
      ]
     },
     "execution_count": 8,
     "metadata": {},
     "output_type": "execute_result"
    }
   ],
   "source": [
    "teams_df['yearid'].max()"
   ]
  },
  {
   "cell_type": "markdown",
   "metadata": {},
   "source": [
    "---\n",
    "#### Find the name and height of the shortest player in the database. How many games did he play in? What is the name of the team for which he played?"
   ]
  },
  {
   "cell_type": "code",
   "execution_count": 9,
   "metadata": {},
   "outputs": [],
   "source": [
    "shortest_player = people_df[people_df.height == people_df.height.min()] "
   ]
  },
  {
   "cell_type": "code",
   "execution_count": 10,
   "metadata": {},
   "outputs": [
    {
     "data": {
      "text/plain": [
       "5843    Edward Carl\n",
       "Name: namegiven, dtype: object"
      ]
     },
     "execution_count": 10,
     "metadata": {},
     "output_type": "execute_result"
    }
   ],
   "source": [
    "shortest_player['namegiven']"
   ]
  },
  {
   "cell_type": "code",
   "execution_count": 11,
   "metadata": {},
   "outputs": [],
   "source": [
    "edward_carl_id = list(shortest_player['playerid'])"
   ]
  },
  {
   "cell_type": "code",
   "execution_count": 12,
   "metadata": {},
   "outputs": [
    {
     "data": {
      "text/html": [
       "<div>\n",
       "<style scoped>\n",
       "    .dataframe tbody tr th:only-of-type {\n",
       "        vertical-align: middle;\n",
       "    }\n",
       "\n",
       "    .dataframe tbody tr th {\n",
       "        vertical-align: top;\n",
       "    }\n",
       "\n",
       "    .dataframe thead th {\n",
       "        text-align: right;\n",
       "    }\n",
       "</style>\n",
       "<table border=\"1\" class=\"dataframe\">\n",
       "  <thead>\n",
       "    <tr style=\"text-align: right;\">\n",
       "      <th></th>\n",
       "      <th>yearid</th>\n",
       "      <th>teamid</th>\n",
       "      <th>lgid</th>\n",
       "      <th>playerid</th>\n",
       "      <th>g_all</th>\n",
       "      <th>gs</th>\n",
       "      <th>g_batting</th>\n",
       "      <th>g_defense</th>\n",
       "      <th>g_p</th>\n",
       "      <th>g_c</th>\n",
       "      <th>...</th>\n",
       "      <th>g_2b</th>\n",
       "      <th>g_3b</th>\n",
       "      <th>g_ss</th>\n",
       "      <th>g_lf</th>\n",
       "      <th>g_cf</th>\n",
       "      <th>g_rf</th>\n",
       "      <th>g_of</th>\n",
       "      <th>g_dh</th>\n",
       "      <th>g_ph</th>\n",
       "      <th>g_pr</th>\n",
       "    </tr>\n",
       "  </thead>\n",
       "  <tbody>\n",
       "    <tr>\n",
       "      <th>35173</th>\n",
       "      <td>1951</td>\n",
       "      <td>SLA</td>\n",
       "      <td>AL</td>\n",
       "      <td>gaedeed01</td>\n",
       "      <td>1</td>\n",
       "      <td>0.0</td>\n",
       "      <td>1</td>\n",
       "      <td>0</td>\n",
       "      <td>0</td>\n",
       "      <td>0</td>\n",
       "      <td>...</td>\n",
       "      <td>0</td>\n",
       "      <td>0</td>\n",
       "      <td>0</td>\n",
       "      <td>0</td>\n",
       "      <td>0</td>\n",
       "      <td>0</td>\n",
       "      <td>0</td>\n",
       "      <td>0.0</td>\n",
       "      <td>1.0</td>\n",
       "      <td>0.0</td>\n",
       "    </tr>\n",
       "  </tbody>\n",
       "</table>\n",
       "<p>1 rows × 21 columns</p>\n",
       "</div>"
      ],
      "text/plain": [
       "       yearid teamid lgid   playerid  g_all   gs  g_batting  g_defense  g_p  \\\n",
       "35173    1951    SLA   AL  gaedeed01      1  0.0          1          0    0   \n",
       "\n",
       "       g_c  ...  g_2b  g_3b  g_ss  g_lf  g_cf  g_rf  g_of  g_dh  g_ph  g_pr  \n",
       "35173    0  ...     0     0     0     0     0     0     0   0.0   1.0   0.0  \n",
       "\n",
       "[1 rows x 21 columns]"
      ]
     },
     "execution_count": 12,
     "metadata": {},
     "output_type": "execute_result"
    }
   ],
   "source": [
    "appearances_df[appearances_df['playerid'].isin(['gaedeed01'])]"
   ]
  },
  {
   "cell_type": "code",
   "execution_count": 13,
   "metadata": {},
   "outputs": [
    {
     "data": {
      "text/plain": [
       "412    St. Louis Browns\n",
       "Name: name, dtype: object"
      ]
     },
     "execution_count": 13,
     "metadata": {},
     "output_type": "execute_result"
    }
   ],
   "source": [
    "teams_df['name'][teams_df['teamid'].isin(['SLA'])].head(1)"
   ]
  },
  {
   "cell_type": "markdown",
   "metadata": {},
   "source": [
    "---\n",
    "#### Find all players in the database who played at Vanderbilt University. Create a list showing each player’s first and last names as well as the total salary they earned in the major leagues. Sort this list in descending order by the total salary earned. Which Vanderbilt player earned the most money in the majors?"
   ]
  },
  {
   "cell_type": "code",
   "execution_count": 14,
   "metadata": {},
   "outputs": [],
   "source": [
    "vandy_id = list(schools_df.loc[schools_df['schoolname'] == 'Vanderbilt University', 'schoolid'])"
   ]
  },
  {
   "cell_type": "code",
   "execution_count": 15,
   "metadata": {},
   "outputs": [],
   "source": [
    "vandy_players = list(collegeplaying_df.loc[collegeplaying_df['schoolid'] == 'vandy', 'playerid'])"
   ]
  },
  {
   "cell_type": "code",
   "execution_count": 16,
   "metadata": {},
   "outputs": [],
   "source": [
    "# function to get unique values \n",
    "def unique(list1): \n",
    "    x = np.array(list1) \n",
    "    print(np.unique(x)) "
   ]
  },
  {
   "cell_type": "code",
   "execution_count": 17,
   "metadata": {},
   "outputs": [
    {
     "name": "stdout",
     "output_type": "stream",
     "text": [
      "['alvarpe01' 'baxtemi01' 'chrisni01' 'colliwi01' 'corajo01' 'embresl01'\n",
      " 'flahery01' 'grayso01' 'hendrha01' 'katama01' 'lewisje01' 'madissc01'\n",
      " 'minormi01' 'mooresc01' 'mossma01' 'pauljo01' 'priceda01' 'priorma01'\n",
      " 'richaan01' 'sandesc01' 'sewelri01' 'sowerje01' 'willimi01' 'zeidjo01']\n"
     ]
    }
   ],
   "source": [
    "unique(vandy_players)"
   ]
  },
  {
   "cell_type": "code",
   "execution_count": 18,
   "metadata": {},
   "outputs": [],
   "source": [
    "#Placed a comma between all items returned above.\n",
    "vandy_players_unique = ['alvarpe01', 'baxtemi01', 'chrisni01', 'colliwi01', 'corajo01', 'embresl01',\n",
    " 'flahery01', 'grayso01', 'hendrha01', 'katama01', 'lewisje01', 'madissc01',\n",
    " 'minormi01', 'mooresc01', 'mossma01', 'pauljo01', 'priceda01', 'priorma01',\n",
    " 'richaan01', 'sandesc01', 'sewelri01', 'sowerje01', 'willimi01', 'zeidjo01']"
   ]
  },
  {
   "cell_type": "code",
   "execution_count": 19,
   "metadata": {},
   "outputs": [],
   "source": [
    "vandy_names = people_df.query('playerid in @vandy_players_unique')"
   ]
  },
  {
   "cell_type": "code",
   "execution_count": 20,
   "metadata": {},
   "outputs": [],
   "source": [
    "vandy_names_fl = vandy_names[['playerid', 'namefirst', 'namelast']]"
   ]
  },
  {
   "cell_type": "code",
   "execution_count": 21,
   "metadata": {},
   "outputs": [],
   "source": [
    "vandy_salaries = salaries_df.query('playerid in @vandy_players_unique')"
   ]
  },
  {
   "cell_type": "code",
   "execution_count": 22,
   "metadata": {},
   "outputs": [],
   "source": [
    "vandy_total_salaries = vandy_salaries.groupby('playerid')['salary'].sum().to_frame()"
   ]
  },
  {
   "cell_type": "code",
   "execution_count": 23,
   "metadata": {},
   "outputs": [
    {
     "data": {
      "text/html": [
       "<div>\n",
       "<style scoped>\n",
       "    .dataframe tbody tr th:only-of-type {\n",
       "        vertical-align: middle;\n",
       "    }\n",
       "\n",
       "    .dataframe tbody tr th {\n",
       "        vertical-align: top;\n",
       "    }\n",
       "\n",
       "    .dataframe thead th {\n",
       "        text-align: right;\n",
       "    }\n",
       "</style>\n",
       "<table border=\"1\" class=\"dataframe\">\n",
       "  <thead>\n",
       "    <tr style=\"text-align: right;\">\n",
       "      <th></th>\n",
       "      <th>playerid</th>\n",
       "      <th>salary</th>\n",
       "      <th>namefirst</th>\n",
       "      <th>namelast</th>\n",
       "    </tr>\n",
       "  </thead>\n",
       "  <tbody>\n",
       "    <tr>\n",
       "      <th>11</th>\n",
       "      <td>priceda01</td>\n",
       "      <td>81851296.0</td>\n",
       "      <td>David</td>\n",
       "      <td>Price</td>\n",
       "    </tr>\n",
       "  </tbody>\n",
       "</table>\n",
       "</div>"
      ],
      "text/plain": [
       "     playerid      salary namefirst namelast\n",
       "11  priceda01  81851296.0     David    Price"
      ]
     },
     "execution_count": 23,
     "metadata": {},
     "output_type": "execute_result"
    }
   ],
   "source": [
    "pd.merge(vandy_total_salaries, vandy_names_fl, on = 'playerid').sort_values(by = 'salary', ascending = False).head(1)"
   ]
  },
  {
   "cell_type": "markdown",
   "metadata": {},
   "source": [
    "---\n",
    "\n",
    "#### Using the fielding table, group players into three groups based on their position: label players with position OF as \"Outfield\", those with position \"SS\", \"1B\", \"2B\", and \"3B\" as \"Infield\", and those with position \"P\" or \"C\" as \"Battery\". Determine the number of putouts made by each of these three groups in 2016."
   ]
  },
  {
   "cell_type": "code",
   "execution_count": 24,
   "metadata": {},
   "outputs": [],
   "source": [
    "fielding_df['pos_group'] = fielding_df['pos']"
   ]
  },
  {
   "cell_type": "code",
   "execution_count": 25,
   "metadata": {},
   "outputs": [],
   "source": [
    "fielding_df.loc[fielding_df['pos'] == '1B', 'pos_group'] = 'Infield'\n",
    "fielding_df.loc[fielding_df['pos'] == '2B', 'pos_group'] = 'Infield'\n",
    "fielding_df.loc[fielding_df['pos'] == 'SS', 'pos_group'] = 'Infield'\n",
    "fielding_df.loc[fielding_df['pos'] == '3B', 'pos_group'] = 'Infield'\n",
    "fielding_df.loc[fielding_df['pos'] == 'OF', 'pos_group'] = 'Outfield'\n",
    "fielding_df.loc[fielding_df['pos'] == 'P', 'pos_group'] = 'Battery'\n",
    "fielding_df.loc[fielding_df['pos'] == 'C', 'pos_group'] = 'Battery'"
   ]
  },
  {
   "cell_type": "code",
   "execution_count": 26,
   "metadata": {},
   "outputs": [
    {
     "data": {
      "text/html": [
       "<div>\n",
       "<style scoped>\n",
       "    .dataframe tbody tr th:only-of-type {\n",
       "        vertical-align: middle;\n",
       "    }\n",
       "\n",
       "    .dataframe tbody tr th {\n",
       "        vertical-align: top;\n",
       "    }\n",
       "\n",
       "    .dataframe thead th {\n",
       "        text-align: right;\n",
       "    }\n",
       "</style>\n",
       "<table border=\"1\" class=\"dataframe\">\n",
       "  <thead>\n",
       "    <tr style=\"text-align: right;\">\n",
       "      <th></th>\n",
       "      <th>po</th>\n",
       "    </tr>\n",
       "    <tr>\n",
       "      <th>pos_group</th>\n",
       "      <th></th>\n",
       "    </tr>\n",
       "  </thead>\n",
       "  <tbody>\n",
       "    <tr>\n",
       "      <th>Battery</th>\n",
       "      <td>2575499</td>\n",
       "    </tr>\n",
       "    <tr>\n",
       "      <th>Infield</th>\n",
       "      <td>6101378</td>\n",
       "    </tr>\n",
       "    <tr>\n",
       "      <th>Outfield</th>\n",
       "      <td>2731506</td>\n",
       "    </tr>\n",
       "  </tbody>\n",
       "</table>\n",
       "</div>"
      ],
      "text/plain": [
       "                po\n",
       "pos_group         \n",
       "Battery    2575499\n",
       "Infield    6101378\n",
       "Outfield   2731506"
      ]
     },
     "execution_count": 26,
     "metadata": {},
     "output_type": "execute_result"
    }
   ],
   "source": [
    "fielding_df.groupby('pos_group')['po'].sum().to_frame()"
   ]
  },
  {
   "cell_type": "markdown",
   "metadata": {},
   "source": [
    "---\n",
    "#### Find the average number of strikeouts per game by decade since 1920. Round the numbers you report to 2 decimal places. Do the same for home runs per game. Do you see any trends?"
   ]
  },
  {
   "cell_type": "code",
   "execution_count": 35,
   "metadata": {},
   "outputs": [],
   "source": [
    "so_by_decade = pitching_df[pitching_df['yearid'] >= 1920]"
   ]
  },
  {
   "cell_type": "code",
   "execution_count": 39,
   "metadata": {},
   "outputs": [],
   "source": [
    "so_by_decade = so_by_decade.drop(columns = ['playerid', 'stint', 'teamid', 'lgid', 'w', 'l', 'g', 'gs',\n",
    "       'cg', 'sho', 'sv', 'ipouts', 'h', 'er', 'hr', 'bb', 'baopp',\n",
    "       'era', 'ibb', 'wp', 'hbp', 'bk', 'bfp', 'gf', 'r', 'sh', 'sf', 'gidp'])"
   ]
  },
  {
   "cell_type": "code",
   "execution_count": 79,
   "metadata": {},
   "outputs": [],
   "source": [
    "#Python is written in C, and native python functions are inherently slower than C, so using for loops is not ideal. \n",
    "#Use .apply() instead! (see below)\n",
    "\n",
    "#decade_list = []\n",
    "\n",
    "#for year in so_by_decade.yearid:\n",
    "    #print(year)\n",
    "    #decade = year//10*10\n",
    "    #decade_list.append(decade)"
   ]
  },
  {
   "cell_type": "code",
   "execution_count": 82,
   "metadata": {},
   "outputs": [],
   "source": [
    "#so_by_decade['decade'] = decade_list"
   ]
  },
  {
   "cell_type": "code",
   "execution_count": 89,
   "metadata": {},
   "outputs": [],
   "source": [
    "#We can define a function...\n",
    "\n",
    "def calculate_decade(yearid):\n",
    "    return yearid//10*10"
   ]
  },
  {
   "cell_type": "code",
   "execution_count": 90,
   "metadata": {},
   "outputs": [],
   "source": [
    "#...and use .apply()!!!\n",
    "\n",
    "so_by_decade['decade'] = so_by_decade.yearid.apply(calculate_decade)"
   ]
  },
  {
   "cell_type": "code",
   "execution_count": 91,
   "metadata": {},
   "outputs": [
    {
     "data": {
      "text/html": [
       "<div>\n",
       "<style scoped>\n",
       "    .dataframe tbody tr th:only-of-type {\n",
       "        vertical-align: middle;\n",
       "    }\n",
       "\n",
       "    .dataframe tbody tr th {\n",
       "        vertical-align: top;\n",
       "    }\n",
       "\n",
       "    .dataframe thead th {\n",
       "        text-align: right;\n",
       "    }\n",
       "</style>\n",
       "<table border=\"1\" class=\"dataframe\">\n",
       "  <thead>\n",
       "    <tr style=\"text-align: right;\">\n",
       "      <th></th>\n",
       "      <th>so</th>\n",
       "    </tr>\n",
       "    <tr>\n",
       "      <th>decade</th>\n",
       "      <th></th>\n",
       "    </tr>\n",
       "  </thead>\n",
       "  <tbody>\n",
       "    <tr>\n",
       "      <th>1920</th>\n",
       "      <td>32.07</td>\n",
       "    </tr>\n",
       "    <tr>\n",
       "      <th>1930</th>\n",
       "      <td>37.52</td>\n",
       "    </tr>\n",
       "    <tr>\n",
       "      <th>1940</th>\n",
       "      <td>35.83</td>\n",
       "    </tr>\n",
       "    <tr>\n",
       "      <th>1950</th>\n",
       "      <td>41.81</td>\n",
       "    </tr>\n",
       "    <tr>\n",
       "      <th>1960</th>\n",
       "      <td>56.26</td>\n",
       "    </tr>\n",
       "    <tr>\n",
       "      <th>1970</th>\n",
       "      <td>53.64</td>\n",
       "    </tr>\n",
       "    <tr>\n",
       "      <th>1980</th>\n",
       "      <td>50.64</td>\n",
       "    </tr>\n",
       "    <tr>\n",
       "      <th>1990</th>\n",
       "      <td>47.33</td>\n",
       "    </tr>\n",
       "    <tr>\n",
       "      <th>2000</th>\n",
       "      <td>46.57</td>\n",
       "    </tr>\n",
       "    <tr>\n",
       "      <th>2010</th>\n",
       "      <td>49.02</td>\n",
       "    </tr>\n",
       "  </tbody>\n",
       "</table>\n",
       "</div>"
      ],
      "text/plain": [
       "           so\n",
       "decade       \n",
       "1920    32.07\n",
       "1930    37.52\n",
       "1940    35.83\n",
       "1950    41.81\n",
       "1960    56.26\n",
       "1970    53.64\n",
       "1980    50.64\n",
       "1990    47.33\n",
       "2000    46.57\n",
       "2010    49.02"
      ]
     },
     "execution_count": 91,
     "metadata": {},
     "output_type": "execute_result"
    }
   ],
   "source": [
    "so_by_decade.groupby('decade')['so'].mean().to_frame().round(2)\n"
   ]
  },
  {
   "cell_type": "code",
   "execution_count": 78,
   "metadata": {
    "scrolled": true
   },
   "outputs": [],
   "source": [
    "#For plain math functions, you can do it this way, but once the params become more complicated it will not work.\n",
    "\n",
    "#so_by_decade['decade'] = so_by_decade.yearid//10*10"
   ]
  },
  {
   "cell_type": "code",
   "execution_count": 83,
   "metadata": {},
   "outputs": [],
   "source": [
    "hr_by_decade = batting_df[batting_df['yearid'] >= 1920]"
   ]
  },
  {
   "cell_type": "code",
   "execution_count": 85,
   "metadata": {},
   "outputs": [],
   "source": [
    "hr_by_decade = hr_by_decade.drop(columns = ['playerid', 'stint', 'teamid', 'lgid', 'g', 'ab', 'r', 'h',\n",
    "       'h2b', 'h3b', 'rbi', 'sb', 'cs', 'bb', 'so', 'ibb', 'hbp', 'sh',\n",
    "       'sf', 'gidp'])"
   ]
  },
  {
   "cell_type": "code",
   "execution_count": 87,
   "metadata": {},
   "outputs": [],
   "source": [
    "hr_by_decade['decade'] = hr_by_decade.yearid.apply(calculate_decade)"
   ]
  },
  {
   "cell_type": "code",
   "execution_count": 92,
   "metadata": {},
   "outputs": [
    {
     "data": {
      "text/html": [
       "<div>\n",
       "<style scoped>\n",
       "    .dataframe tbody tr th:only-of-type {\n",
       "        vertical-align: middle;\n",
       "    }\n",
       "\n",
       "    .dataframe tbody tr th {\n",
       "        vertical-align: top;\n",
       "    }\n",
       "\n",
       "    .dataframe thead th {\n",
       "        text-align: right;\n",
       "    }\n",
       "</style>\n",
       "<table border=\"1\" class=\"dataframe\">\n",
       "  <thead>\n",
       "    <tr style=\"text-align: right;\">\n",
       "      <th></th>\n",
       "      <th>hr</th>\n",
       "    </tr>\n",
       "    <tr>\n",
       "      <th>decade</th>\n",
       "      <th></th>\n",
       "    </tr>\n",
       "  </thead>\n",
       "  <tbody>\n",
       "    <tr>\n",
       "      <th>1920</th>\n",
       "      <td>1.86</td>\n",
       "    </tr>\n",
       "    <tr>\n",
       "      <th>1930</th>\n",
       "      <td>2.57</td>\n",
       "    </tr>\n",
       "    <tr>\n",
       "      <th>1940</th>\n",
       "      <td>2.24</td>\n",
       "    </tr>\n",
       "    <tr>\n",
       "      <th>1950</th>\n",
       "      <td>3.39</td>\n",
       "    </tr>\n",
       "    <tr>\n",
       "      <th>1960</th>\n",
       "      <td>3.46</td>\n",
       "    </tr>\n",
       "    <tr>\n",
       "      <th>1970</th>\n",
       "      <td>3.21</td>\n",
       "    </tr>\n",
       "    <tr>\n",
       "      <th>1980</th>\n",
       "      <td>3.28</td>\n",
       "    </tr>\n",
       "    <tr>\n",
       "      <th>1990</th>\n",
       "      <td>3.49</td>\n",
       "    </tr>\n",
       "    <tr>\n",
       "      <th>2000</th>\n",
       "      <td>3.83</td>\n",
       "    </tr>\n",
       "    <tr>\n",
       "      <th>2010</th>\n",
       "      <td>3.36</td>\n",
       "    </tr>\n",
       "  </tbody>\n",
       "</table>\n",
       "</div>"
      ],
      "text/plain": [
       "          hr\n",
       "decade      \n",
       "1920    1.86\n",
       "1930    2.57\n",
       "1940    2.24\n",
       "1950    3.39\n",
       "1960    3.46\n",
       "1970    3.21\n",
       "1980    3.28\n",
       "1990    3.49\n",
       "2000    3.83\n",
       "2010    3.36"
      ]
     },
     "execution_count": 92,
     "metadata": {},
     "output_type": "execute_result"
    }
   ],
   "source": [
    "hr_by_decade.groupby('decade')['hr'].mean().to_frame().round(2)"
   ]
  },
  {
   "cell_type": "markdown",
   "metadata": {},
   "source": [
    "#### Find the player who had the most success stealing bases in 2016, where success is measured as the percentage of stolen base attempts which are successful. (A stolen base attempt results either in a stolen base or being caught stealing.) Consider only players who attempted at least 20 stolen bases."
   ]
  },
  {
   "cell_type": "code",
   "execution_count": 108,
   "metadata": {},
   "outputs": [],
   "source": [
    "stolen_bases = batting_df.drop(columns = ['stint', 'teamid', 'lgid', 'g', 'ab', 'r', 'h',\n",
    "       'h2b', 'h3b', 'hr', 'rbi', 'bb', 'so', 'ibb', 'hbp', 'sh',\n",
    "       'sf', 'gidp'])"
   ]
  },
  {
   "cell_type": "code",
   "execution_count": 109,
   "metadata": {},
   "outputs": [],
   "source": [
    "stolen_bases = stolen_bases[stolen_bases ['yearid'] == 2016]\n",
    "stolen_bases = stolen_bases[stolen_bases ['sb'] >= 20]"
   ]
  },
  {
   "cell_type": "code",
   "execution_count": 120,
   "metadata": {},
   "outputs": [],
   "source": [
    "stolen_bases['success'] = (stolen_bases.sb / (stolen_bases.cs + stolen_bases.sb) * 100).round(2)"
   ]
  },
  {
   "cell_type": "code",
   "execution_count": 127,
   "metadata": {},
   "outputs": [],
   "source": [
    "player_sb = stolen_bases.sort_values(by = 'success', ascending = False).head(1)"
   ]
  },
  {
   "cell_type": "code",
   "execution_count": 131,
   "metadata": {},
   "outputs": [],
   "source": [
    "best_stealer = pd.merge(player_sb, people_df, on = 'playerid', how = 'left')"
   ]
  },
  {
   "cell_type": "code",
   "execution_count": 134,
   "metadata": {},
   "outputs": [
    {
     "data": {
      "text/html": [
       "<div>\n",
       "<style scoped>\n",
       "    .dataframe tbody tr th:only-of-type {\n",
       "        vertical-align: middle;\n",
       "    }\n",
       "\n",
       "    .dataframe tbody tr th {\n",
       "        vertical-align: top;\n",
       "    }\n",
       "\n",
       "    .dataframe thead th {\n",
       "        text-align: right;\n",
       "    }\n",
       "</style>\n",
       "<table border=\"1\" class=\"dataframe\">\n",
       "  <thead>\n",
       "    <tr style=\"text-align: right;\">\n",
       "      <th></th>\n",
       "      <th>playerid</th>\n",
       "      <th>yearid</th>\n",
       "      <th>sb</th>\n",
       "      <th>cs</th>\n",
       "      <th>success</th>\n",
       "      <th>namefirst</th>\n",
       "      <th>namelast</th>\n",
       "      <th>namegiven</th>\n",
       "    </tr>\n",
       "  </thead>\n",
       "  <tbody>\n",
       "    <tr>\n",
       "      <th>0</th>\n",
       "      <td>owingch01</td>\n",
       "      <td>2016</td>\n",
       "      <td>21.0</td>\n",
       "      <td>2.0</td>\n",
       "      <td>91.3</td>\n",
       "      <td>Chris</td>\n",
       "      <td>Owings</td>\n",
       "      <td>Christopher Scott</td>\n",
       "    </tr>\n",
       "  </tbody>\n",
       "</table>\n",
       "</div>"
      ],
      "text/plain": [
       "    playerid  yearid    sb   cs  success namefirst namelast          namegiven\n",
       "0  owingch01    2016  21.0  2.0     91.3     Chris   Owings  Christopher Scott"
      ]
     },
     "execution_count": 134,
     "metadata": {},
     "output_type": "execute_result"
    }
   ],
   "source": [
    "best_stealer.drop(columns = ['birthyear', 'birthmonth',\n",
    "       'birthday', 'birthcountry', 'birthstate', 'birthcity', 'deathyear',\n",
    "       'deathmonth', 'deathday', 'deathcountry', 'deathstate', 'deathcity',\n",
    "        'weight', 'height', 'bats',\n",
    "       'throws', 'debut', 'finalgame', 'retroid', 'bbrefid'])"
   ]
  },
  {
   "cell_type": "code",
   "execution_count": null,
   "metadata": {},
   "outputs": [],
   "source": []
  },
  {
   "cell_type": "code",
   "execution_count": null,
   "metadata": {},
   "outputs": [],
   "source": []
  },
  {
   "cell_type": "code",
   "execution_count": null,
   "metadata": {},
   "outputs": [],
   "source": []
  },
  {
   "cell_type": "code",
   "execution_count": 177,
   "metadata": {},
   "outputs": [],
   "source": [
    "#engine.dispose()"
   ]
  },
  {
   "cell_type": "code",
   "execution_count": null,
   "metadata": {},
   "outputs": [],
   "source": []
  }
 ],
 "metadata": {
  "kernelspec": {
   "display_name": "Python 3",
   "language": "python",
   "name": "python3"
  },
  "language_info": {
   "codemirror_mode": {
    "name": "ipython",
    "version": 3
   },
   "file_extension": ".py",
   "mimetype": "text/x-python",
   "name": "python",
   "nbconvert_exporter": "python",
   "pygments_lexer": "ipython3",
   "version": "3.8.2"
  }
 },
 "nbformat": 4,
 "nbformat_minor": 4
}
